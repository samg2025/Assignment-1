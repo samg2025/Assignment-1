theList = [3, 6, 7, 49,  21, 42, 63] 
result = filter(lambda x: (x%3 != 0 and x%7 == 0), theList)
print(list(result))
