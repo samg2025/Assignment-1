{
 "cells": [
  {
   "cell_type": "code",
   "execution_count": 1,
   "metadata": {},
   "outputs": [
    {
     "name": "stdout",
     "output_type": "stream",
     "text": [
      "Enter a values for D using comma separated sequence: 1,2,3,4,5\n",
      "The squareroot is:  1.8257418583505538\n",
      "The squareroot is:  2.581988897471611\n",
      "The squareroot is:  3.1622776601683795\n",
      "The squareroot is:  3.6514837167011076\n",
      "The squareroot is:  4.08248290463863\n"
     ]
    }
   ],
   "source": [
    "# TASK SEVEN: CLASSES AND OBJECTS\n",
    "\n",
    "# 1. Write a program that calculates and prints the value according to the given formula:\n",
    "# Q= Square root of [(2*C*D)/H]\n",
    "# Following are the fixed values of C and H:\n",
    "# C is 50. H is 30.\n",
    "# D is the variable whose values should be input to your program in a comma-separated sequence.\n",
    "\n",
    "import math\n",
    "\n",
    "class calculate():\n",
    "    def root(self, D):\n",
    "        C = 50\n",
    "        H = 30\n",
    "        Q = math.sqrt((2*C*D)/ H)\n",
    "        print(\"The squareroot is: \", Q)\n",
    "\n",
    "x = input(\"Enter a values for D using comma separated sequence: \")\n",
    "D = x.split(\",\")\n",
    "for i in D:\n",
    "    if i.isdigit():\n",
    "        i = int(i)\n",
    "    square = calculate()\n",
    "    square.root(i)"
   ]
  },
  {
   "cell_type": "code",
   "execution_count": 2,
   "metadata": {},
   "outputs": [
    {
     "name": "stdout",
     "output_type": "stream",
     "text": [
      "The area of the shape is: 0\n",
      "The area of the square is: 25\n"
     ]
    }
   ],
   "source": [
    "# 2.Define a class named Shape and its subclass Square. The Square class has an init function which takes a length as\n",
    "# argument. Both classes have an area function which can print the area of the shape where Shape’s area is 0 by default.\n",
    "\n",
    "class shape():\n",
    "    def area(self):\n",
    "        print(\"The area of the shape is: 0\")\n",
    "\n",
    "class square(shape):\n",
    "    def __init__(self, length):\n",
    "        self.length = length\n",
    "    def area(self):\n",
    "        a = self.length * self.length\n",
    "        print(\"The area of the square is:\", a)\n",
    "\n",
    "x = shape()\n",
    "x.area()\n",
    "s = square(5)\n",
    "s.area()"
   ]
  },
  {
   "cell_type": "code",
   "execution_count": 3,
   "metadata": {},
   "outputs": [
    {
     "name": "stdout",
     "output_type": "stream",
     "text": [
      "[[-7, -3, 10], [-10, 2, 8]]\n"
     ]
    }
   ],
   "source": [
    "# 3. Create a class to find the three elements that sum to zero from a set of n real numbers.\n",
    "# Input array: [-25,-10,-7,-3,2,4,8,10]\n",
    "# Output: [[-10,2,8],[-7,-3,10]]\n",
    "\n",
    "numArray = [-25, -10, -7, -3, 2, 4, 8, 10]\n",
    "\n",
    "class sum():\n",
    "    def sumofthree(self, num):\n",
    "        firstNums = []\n",
    "        newNums = []\n",
    "        self.num = num\n",
    "        for i in num:\n",
    "            for j in num:\n",
    "                for k in num:\n",
    "                    if i+j+k == 0:\n",
    "                        firstNums.append(i)\n",
    "                    if i + j + k == 0:\n",
    "                        firstNums.append(j)\n",
    "                    if i + j + k == 0:\n",
    "                        firstNums.append(k)\n",
    "                        firstNums.sort()\n",
    "                        newNums.append(firstNums)\n",
    "                        firstNums = []\n",
    "        newList = set(tuple(x) for x in newNums) #Converting to tuple will remove duplicates\n",
    "        lastList = [list(x) for x in newList] #Re-convert to list\n",
    "\n",
    "        return lastList\n",
    "\n",
    "x = sum()\n",
    "y = x.sumofthree(numArray)\n",
    "print(y)"
   ]
  },
  {
   "cell_type": "code",
   "execution_count": 4,
   "metadata": {},
   "outputs": [
    {
     "ename": "AttributeError",
     "evalue": "'Derived_Test' object has no attribute 'x'",
     "output_type": "error",
     "traceback": [
      "\u001b[1;31m---------------------------------------------------------------------------\u001b[0m",
      "\u001b[1;31mAttributeError\u001b[0m                            Traceback (most recent call last)",
      "\u001b[1;32m<ipython-input-4-8b27f6998a05>\u001b[0m in \u001b[0;36m<module>\u001b[1;34m\u001b[0m\n\u001b[0;32m     14\u001b[0m     \u001b[0mprint\u001b[0m\u001b[1;33m(\u001b[0m\u001b[0mb\u001b[0m\u001b[1;33m.\u001b[0m\u001b[0mx\u001b[0m\u001b[1;33m,\u001b[0m\u001b[0mb\u001b[0m\u001b[1;33m.\u001b[0m\u001b[0my\u001b[0m\u001b[1;33m)\u001b[0m\u001b[1;33m\u001b[0m\u001b[1;33m\u001b[0m\u001b[0m\n\u001b[0;32m     15\u001b[0m \u001b[1;33m\u001b[0m\u001b[0m\n\u001b[1;32m---> 16\u001b[1;33m \u001b[0mmain\u001b[0m\u001b[1;33m(\u001b[0m\u001b[1;33m)\u001b[0m\u001b[1;33m\u001b[0m\u001b[1;33m\u001b[0m\u001b[0m\n\u001b[0m\u001b[0;32m     17\u001b[0m \u001b[1;33m\u001b[0m\u001b[0m\n\u001b[0;32m     18\u001b[0m \u001b[1;31m# An AttributeError will occur since the second class 'Derived_Test' has no attibute 'x'.\u001b[0m\u001b[1;33m\u001b[0m\u001b[1;33m\u001b[0m\u001b[1;33m\u001b[0m\u001b[0m\n",
      "\u001b[1;32m<ipython-input-4-8b27f6998a05>\u001b[0m in \u001b[0;36mmain\u001b[1;34m()\u001b[0m\n\u001b[0;32m     12\u001b[0m \u001b[1;32mdef\u001b[0m \u001b[0mmain\u001b[0m\u001b[1;33m(\u001b[0m\u001b[1;33m)\u001b[0m\u001b[1;33m:\u001b[0m\u001b[1;33m\u001b[0m\u001b[1;33m\u001b[0m\u001b[0m\n\u001b[0;32m     13\u001b[0m     \u001b[0mb\u001b[0m \u001b[1;33m=\u001b[0m \u001b[0mDerived_Test\u001b[0m\u001b[1;33m(\u001b[0m\u001b[1;33m)\u001b[0m\u001b[1;33m\u001b[0m\u001b[1;33m\u001b[0m\u001b[0m\n\u001b[1;32m---> 14\u001b[1;33m     \u001b[0mprint\u001b[0m\u001b[1;33m(\u001b[0m\u001b[0mb\u001b[0m\u001b[1;33m.\u001b[0m\u001b[0mx\u001b[0m\u001b[1;33m,\u001b[0m\u001b[0mb\u001b[0m\u001b[1;33m.\u001b[0m\u001b[0my\u001b[0m\u001b[1;33m)\u001b[0m\u001b[1;33m\u001b[0m\u001b[1;33m\u001b[0m\u001b[0m\n\u001b[0m\u001b[0;32m     15\u001b[0m \u001b[1;33m\u001b[0m\u001b[0m\n\u001b[0;32m     16\u001b[0m \u001b[0mmain\u001b[0m\u001b[1;33m(\u001b[0m\u001b[1;33m)\u001b[0m\u001b[1;33m\u001b[0m\u001b[1;33m\u001b[0m\u001b[0m\n",
      "\u001b[1;31mAttributeError\u001b[0m: 'Derived_Test' object has no attribute 'x'"
     ]
    }
   ],
   "source": [
    "#4. What is the output of the following code? Explain your answer as well.\n",
    "\n",
    "# i) \n",
    "class Test:\n",
    "    def __init__(self):\n",
    "        self.x = 0\n",
    "\n",
    "class Derived_Test(Test):\n",
    "    def __init__(self):\n",
    "        self.y = 1\n",
    "\n",
    "def main():\n",
    "    b = Derived_Test()\n",
    "    print(b.x,b.y)\n",
    "\n",
    "main()\n",
    "\n",
    "# An AttributeError will occur since the second class 'Derived_Test' has no attibute 'x'.\n",
    "# This is due to the fact that the class Derived_Test is subclass. Therefore you will have include super().__init__() \n",
    "# in order to call the __init__() of the Test class, allowing you to use it in the Derived_Test class without \n",
    "# repeating code."
   ]
  },
  {
   "cell_type": "code",
   "execution_count": 5,
   "metadata": {},
   "outputs": [
    {
     "name": "stdout",
     "output_type": "stream",
     "text": [
      "0 1\n"
     ]
    }
   ],
   "source": [
    "# i) Corrected\n",
    "class Test:\n",
    "    def __init__(self):\n",
    "        self.x = 0\n",
    "\n",
    "class Derived_Test(Test):\n",
    "    def __init__(self):\n",
    "        super().__init__()\n",
    "        self.y = 1\n",
    "\n",
    "def main():\n",
    "    b = Derived_Test()\n",
    "    print(b.x,b.y)\n",
    "\n",
    "main()"
   ]
  },
  {
   "cell_type": "code",
   "execution_count": 6,
   "metadata": {},
   "outputs": [
    {
     "ename": "SyntaxError",
     "evalue": "unmatched ')' (<ipython-input-6-49afccc1d28d>, line 15)",
     "output_type": "error",
     "traceback": [
      "\u001b[1;36m  File \u001b[1;32m\"<ipython-input-6-49afccc1d28d>\"\u001b[1;36m, line \u001b[1;32m15\u001b[0m\n\u001b[1;33m    main())\u001b[0m\n\u001b[1;37m          ^\u001b[0m\n\u001b[1;31mSyntaxError\u001b[0m\u001b[1;31m:\u001b[0m unmatched ')'\n"
     ]
    }
   ],
   "source": [
    "# ii)\n",
    "class A:\n",
    "    def __init__(self, x= 1):\n",
    "        self.x = x\n",
    "\n",
    "class der(A):\n",
    "    def __init__(self,y = 2):\n",
    "        super().__init__()\n",
    "        self.y = y\n",
    "\n",
    "def main():\n",
    "    obj = der()\n",
    "    print(obj.x, obj.y)\n",
    "\n",
    "main())\n",
    "\n",
    "# There will be a SyntaxError since there is an extra closing parenthesis in the end for main()). Other than that,\n",
    "# if you eliminate the extra parenthesis, the code will work. Class A is the superclass and\n",
    "# contains the value of x. Where class der is a subclass of class A, therefore it inherits the properties of Class A when\n",
    "# Class der is called. In the main function class der is called upon therefore, it allows the program to print the values of\n",
    "# x and y which is 1 and 2 simultaneously. "
   ]
  },
  {
   "cell_type": "code",
   "execution_count": 7,
   "metadata": {},
   "outputs": [
    {
     "name": "stdout",
     "output_type": "stream",
     "text": [
      "1 2\n"
     ]
    }
   ],
   "source": [
    "# ii) Corrected\n",
    "class A:\n",
    "    def __init__(self, x= 1):\n",
    "        self.x = x\n",
    "\n",
    "class der(A):\n",
    "    def __init__(self,y = 2):\n",
    "        super().__init__()\n",
    "        self.y = y\n",
    "\n",
    "def main():\n",
    "    obj = der()\n",
    "    print(obj.x, obj.y)\n",
    "\n",
    "main()"
   ]
  },
  {
   "cell_type": "code",
   "execution_count": 8,
   "metadata": {},
   "outputs": [
    {
     "name": "stdout",
     "output_type": "stream",
     "text": [
      "3 1\n"
     ]
    }
   ],
   "source": [
    "# iii)\n",
    "\n",
    "class A: \n",
    "    def __init__(self,x): \n",
    "        self.x = x \n",
    "    def count(self,x): \n",
    "        self.x = self.x+1 \n",
    "\n",
    "class B(A): \n",
    "    def __init__(self, y=0): \n",
    "        A.__init__(self, 3) \n",
    "        self.y = y \n",
    "    def count(self): \n",
    "        self.y += 1      \n",
    "\n",
    "def main(): \n",
    "    obj = B() \n",
    "    obj.count() \n",
    "    print(obj.x, obj.y) \n",
    "\n",
    "main() \n",
    "\n",
    "# Here we have class A as a superclass and class B as a subclass.The function main calls class B's count function \n",
    "# in the object, 'obj'. The A.__init__(self, 3) assigns the inherited initialized object x from class A with the \n",
    "# value of 3 when we call obj.x.\n",
    "# As for obj.y, the value of y is initialized at 0. However, the second function count()  in class B adds a value of 1.\n",
    "# Therefore, (y = 0 + 1), we get a value of 1. Hence, the output from the code will be 3 and 1."
   ]
  },
  {
   "cell_type": "code",
   "execution_count": 9,
   "metadata": {},
   "outputs": [
    {
     "name": "stdout",
     "output_type": "stream",
     "text": [
      "30\n"
     ]
    }
   ],
   "source": [
    "# iv)\n",
    "\n",
    "class A:\n",
    "    def __init__(self):\n",
    "        self.multiply(15)\n",
    "        print(self.i)\n",
    "    def multiply(self, i):\n",
    "        self.i = 4 * i;\n",
    "\n",
    "\n",
    "class B(A):\n",
    "    def __init__(self):\n",
    "        super().__init__()\n",
    "    def multiply(self, i):\n",
    "        self.i = 2 * i;\n",
    "\n",
    "obj = B()\n",
    "\n",
    "# Here we have a Class A as superclass and Class B as a subclass. We have called class B in 'obj'. Class B has \n",
    "# inherited initial value of i = 15 from class A which will later get multiplied using the multiply function in \n",
    "# class B by 2 giving us a value of (2 x 15) = 30."
   ]
  },
  {
   "cell_type": "code",
   "execution_count": 10,
   "metadata": {},
   "outputs": [
    {
     "name": "stdout",
     "output_type": "stream",
     "text": [
      "6 hr and 25 mins\n",
      "The total minutes are: 385\n"
     ]
    }
   ],
   "source": [
    "# 5. Create a Time class and initialize it with hours and minutes.\n",
    "# Make a method addTime which should take two time object and add them. E.g.-(2 hour and 50 min)\n",
    "# + (1 hr and 20 min) is (4 hr and 10 min).\n",
    "# Make a method displayTime which should print the time.\n",
    "\n",
    "# Make a method DisplayMinute which should display the total minutes in the Time.\n",
    "# E.g.-(1hr 2min) should display 62 minute.\n",
    "\n",
    "class Time:\n",
    "    def __init__(self, hours, minutes):\n",
    "        self.hours = hours\n",
    "        self.minutes = minutes\n",
    "    def addTime(time1, time2):\n",
    "        time3 = Time(0,0)\n",
    "        if time1.minutes + time2.minutes >= 60:\n",
    "            time3.hours = time1.hours+ time2.hours + 1\n",
    "            time3.minutes = (time1.minutes + time2.minutes) - 60\n",
    "        else:\n",
    "            time3.hours = time1.hours + time2.hours\n",
    "            time3.minutes = time1.minutes + time2.minutes\n",
    "        return time3\n",
    "    def displayTime(self):\n",
    "        print(self.hours,\"hr and\", self.minutes, \"mins\")\n",
    "    def displayMinute(self):\n",
    "        mins = (self.hours * 60) + self.minutes\n",
    "        print(\"The total minutes are:\",mins)\n",
    "\n",
    "a = Time(1, 30)   # Time 1\n",
    "b = Time(4, 55) # Time 2\n",
    "c = Time.addTime(a, b)  # to add both time together\n",
    "c.displayTime()  # to display in hrs and mins\n",
    "c.displayMinute()  # to display just in minutes"
   ]
  },
  {
   "cell_type": "code",
   "execution_count": 11,
   "metadata": {},
   "outputs": [
    {
     "name": "stdout",
     "output_type": "stream",
     "text": [
      "You are Young\n",
      "10 years old\n",
      "You are a Teenager\n",
      "15 years old\n",
      "You are old\n",
      "25 years old\n",
      "Age is not valid.\n",
      "Age is not Valid\n"
     ]
    }
   ],
   "source": [
    "# 6.  Write a Person class with an instance variable, , and a constructor that takes an integer, , as a parameter.\n",
    "# The constructor must assign  to  after confirming the argument passed as  is not negative; if a negative argument\n",
    "# is passed as , the constructor should set  to  and print Age is not valid, setting age to 0.. In addition,\n",
    "# you must write the following instance methods:\n",
    "# 1) yearPasses() should increase the  instance variable by .\n",
    "# amIOld()  should perform the following conditional actions:\n",
    "# If , print You are young..\n",
    "# If  and , print You are a teenager..\n",
    "# Otherwise, print You are old..\n",
    "\n",
    "class Person:\n",
    "   def __init__(self,age=0):\n",
    "       if age < 0:\n",
    "           print('Age is not valid.')\n",
    "           self.age = 0\n",
    "       else:\n",
    "           self.age = age\n",
    "   def amIOld(self):\n",
    "       if self.age < 13 and self.age > 0:\n",
    "           print('You are Young')\n",
    "       elif self.age >= 13 and self.age <=18:\n",
    "           print('You are a Teenager')\n",
    "       elif self.age <= 0:\n",
    "           print('Age is not Valid')\n",
    "       else:\n",
    "           print('You are old')\n",
    "   def yearPasses(self):\n",
    "       if self.age > 0:\n",
    "            print(self.age, \"years old\")\n",
    "\n",
    "# Testing the class and methods\n",
    "a = Person(10)\n",
    "a.amIOld()\n",
    "a.yearPasses()\n",
    "\n",
    "b = Person(15)\n",
    "b.amIOld()\n",
    "b.yearPasses()\n",
    "\n",
    "c = Person(25)\n",
    "c.amIOld()\n",
    "c.yearPasses()\n",
    "\n",
    "d = Person(-10)\n",
    "d.amIOld()\n",
    "d.yearPasses()"
   ]
  }
 ],
 "metadata": {
  "kernelspec": {
   "display_name": "Python 3",
   "language": "python",
   "name": "python3"
  },
  "language_info": {
   "codemirror_mode": {
    "name": "ipython",
    "version": 3
   },
   "file_extension": ".py",
   "mimetype": "text/x-python",
   "name": "python",
   "nbconvert_exporter": "python",
   "pygments_lexer": "ipython3",
   "version": "3.8.4"
  }
 },
 "nbformat": 4,
 "nbformat_minor": 4
}
